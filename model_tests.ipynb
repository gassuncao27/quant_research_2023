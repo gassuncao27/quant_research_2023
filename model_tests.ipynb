{
 "cells": [
  {
   "cell_type": "code",
   "execution_count": 25,
   "metadata": {},
   "outputs": [
    {
     "name": "stdout",
     "output_type": "stream",
     "text": [
      "[[Timestamp('2010-01-01 00:00:00') 0.0862 1 2010]\n",
      " [Timestamp('2010-02-01 00:00:00') 0.0862 2 2010]\n",
      " [Timestamp('2010-03-01 00:00:00') 0.0861 3 2010]\n",
      " [Timestamp('2010-04-01 00:00:00') 0.0938 4 2010]\n",
      " [Timestamp('2010-05-01 00:00:00') 0.0937 5 2010]\n",
      " [Timestamp('2010-06-01 00:00:00') 0.1012 6 2010]\n",
      " [Timestamp('2010-07-01 00:00:00') 0.1063 7 2010]\n",
      " [Timestamp('2010-08-01 00:00:00') 0.1063 8 2010]\n",
      " [Timestamp('2010-09-01 00:00:00') 0.1061 9 2010]\n",
      " [Timestamp('2010-10-01 00:00:00') 0.1064 10 2010]\n",
      " [Timestamp('2010-11-01 00:00:00') 0.1064 11 2010]\n",
      " [Timestamp('2010-12-01 00:00:00') 0.1065 12 2010]\n",
      " [Timestamp('2011-01-01 00:00:00') 0.1114 1 2011]]\n",
      "<class 'numpy.ndarray'>\n"
     ]
    }
   ],
   "source": [
    "import os\n",
    "import numpy as np\n",
    "import pandas as pd\n",
    "from dotenv import load_dotenv\n",
    "\n",
    "load_dotenv()\n",
    "ambiente_local = os.getenv('AMBIENTE_MAC')\n",
    "data_path = 'cdi_historico.xlsx'\n",
    "\n",
    "df = pd.read_excel('cdi_historico.xlsx', engine='openpyxl')\n",
    "array = df.iloc[:, :2].values\n",
    "months = [item.month for item in array[:, 0]]\n",
    "years = [item.year for item in array[:, 0]]\n",
    "array = np.column_stack((array, months, years))\n",
    "print(array[0:13,:])\n",
    "print(type(array))\n"
   ]
  },
  {
   "cell_type": "code",
   "execution_count": 26,
   "metadata": {},
   "outputs": [],
   "source": [
    "from log_data import StockData\n",
    "from datetime import datetime\n",
    "\n",
    "## upload data\n",
    "load_dotenv()\n",
    "ambiente_local = os.getenv('AMBIENTE_MAC')\n",
    "data_path = 'acoes_precos2.txt'\n",
    "\n",
    "file_path = ambiente_local + data_path\n",
    "stock_data = StockData(file_path)\n",
    "weekdays = [StockData.date_to_weekday(date) for date in stock_data.dates]\n",
    "\n",
    "data_datetimes = np.array([datetime.strptime(data, \"%Y-%m-%d\") for data in stock_data.dates])\n",
    "meses = np.array([data.month for data in data_datetimes])\n",
    "anos = np.array([data.year for data in data_datetimes])\n",
    "data_datetimes = np.column_stack((data_datetimes, meses, anos))"
   ]
  },
  {
   "cell_type": "code",
   "execution_count": 23,
   "metadata": {},
   "outputs": [
    {
     "name": "stdout",
     "output_type": "stream",
     "text": [
      "<class 'str'>\n",
      "<class 'numpy.ndarray'>\n",
      "<class 'numpy.ndarray'>\n",
      "(1984, 3)\n"
     ]
    }
   ],
   "source": [
    "print(type(stock_data.dates[0]))\n",
    "print(type(data_datetimes))\n",
    "print(type(data_datetimes[0]))\n",
    "print(data_datetimes.shape)"
   ]
  },
  {
   "cell_type": "code",
   "execution_count": 27,
   "metadata": {},
   "outputs": [
    {
     "data": {
      "text/plain": [
       "array([[datetime.datetime(2015, 10, 20, 0, 0), 10, 2015],\n",
       "       [datetime.datetime(2015, 10, 21, 0, 0), 10, 2015],\n",
       "       [datetime.datetime(2015, 10, 22, 0, 0), 10, 2015],\n",
       "       [datetime.datetime(2015, 10, 23, 0, 0), 10, 2015],\n",
       "       [datetime.datetime(2015, 10, 26, 0, 0), 10, 2015]], dtype=object)"
      ]
     },
     "execution_count": 27,
     "metadata": {},
     "output_type": "execute_result"
    }
   ],
   "source": [
    "data_datetimes[0:5,:]"
   ]
  },
  {
   "cell_type": "code",
   "execution_count": 41,
   "metadata": {},
   "outputs": [
    {
     "name": "stdout",
     "output_type": "stream",
     "text": [
      "<class 'numpy.ndarray'>\n",
      "(1, 4)\n",
      "0.1414\n"
     ]
    }
   ],
   "source": [
    "linhas_correspondentes = array[(array[:, 2] == 10) & (array[:, 3] == 2015)]\n",
    "\n",
    "# Imprimindo as linhas encontradas\n",
    "print(type(linhas_correspondentes))\n",
    "print(linhas_correspondentes.shape)\n",
    "print(linhas_correspondentes[0][1])"
   ]
  },
  {
   "cell_type": "code",
   "execution_count": 52,
   "metadata": {},
   "outputs": [
    {
     "data": {
      "text/plain": [
       "47246.53236628962"
      ]
     },
     "execution_count": 52,
     "metadata": {},
     "output_type": "execute_result"
    }
   ],
   "source": [
    "90000000*((linhas_correspondentes[0][1]+1)**(1/252)-1)"
   ]
  },
  {
   "cell_type": "code",
   "execution_count": 48,
   "metadata": {},
   "outputs": [
    {
     "data": {
      "text/plain": [
       "50464.47160150791"
      ]
     },
     "execution_count": 48,
     "metadata": {},
     "output_type": "execute_result"
    }
   ],
   "source": [
    "900000000*(((linhas_correspondentes[0][1]/100+1)**(1/252)-1)*10)"
   ]
  },
  {
   "cell_type": "code",
   "execution_count": null,
   "metadata": {},
   "outputs": [],
   "source": []
  }
 ],
 "metadata": {
  "kernelspec": {
   "display_name": ".venv",
   "language": "python",
   "name": "python3"
  },
  "language_info": {
   "codemirror_mode": {
    "name": "ipython",
    "version": 3
   },
   "file_extension": ".py",
   "mimetype": "text/x-python",
   "name": "python",
   "nbconvert_exporter": "python",
   "pygments_lexer": "ipython3",
   "version": "3.11.1"
  }
 },
 "nbformat": 4,
 "nbformat_minor": 2
}
