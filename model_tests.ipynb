{
 "cells": [
  {
   "cell_type": "code",
   "execution_count": 1,
   "metadata": {},
   "outputs": [
    {
     "name": "stdout",
     "output_type": "stream",
     "text": [
      "<class 'pandas.core.frame.DataFrame'>\n",
      "RangeIndex: 1644043 entries, 0 to 1644042\n",
      "Data columns (total 12 columns):\n",
      " #   Column                     Non-Null Count    Dtype         \n",
      "---  ------                     --------------    -----         \n",
      " 0   data                       1644043 non-null  datetime64[ns]\n",
      " 1   preco_abertura             1644043 non-null  float64       \n",
      " 2   preco_fechamento           1644043 non-null  float64       \n",
      " 3   preco_maximo               1644043 non-null  float64       \n",
      " 4   preco_medio                1644043 non-null  float64       \n",
      " 5   preco_minimo               1644043 non-null  float64       \n",
      " 6   quantidade_negociada       1644043 non-null  int64         \n",
      " 7   quantidade_negocios        1644043 non-null  int64         \n",
      " 8   ticker                     1644043 non-null  object        \n",
      " 9   volume_negociado           1644043 non-null  float64       \n",
      " 10  fator_ajuste               1644043 non-null  float64       \n",
      " 11  preco_fechamento_ajustado  1644043 non-null  float64       \n",
      "dtypes: datetime64[ns](1), float64(8), int64(2), object(1)\n",
      "memory usage: 150.5+ MB\n"
     ]
    }
   ],
   "source": [
    "import pandas as pd\n",
    "from log_data import StockData\n",
    "df = pd.read_parquet('cotacoes_acoes.parquet')\n",
    "df.fillna(0, inplace=True)\n",
    "df.info()"
   ]
  },
  {
   "cell_type": "code",
   "execution_count": 2,
   "metadata": {},
   "outputs": [],
   "source": [
    "def valores_unicos_df(dataframe):\n",
    "    valores_unicos = []\n",
    "    for coluna in dataframe.columns[1:]:\n",
    "        valores_unicos_coluna = list(dataframe[coluna].unique())\n",
    "        valores_unicos.extend(valores_unicos_coluna)\n",
    "\n",
    "    # Removendo duplicatas\n",
    "    valores_unicos = list(set(valores_unicos))\n",
    "\n",
    "    return valores_unicos\n",
    "\n",
    "df2 = pd.read_csv('portfolio_quant.csv', delimiter=',', header=None)\n",
    "tickers_strategy = valores_unicos_df(df2)"
   ]
  },
  {
   "cell_type": "code",
   "execution_count": 7,
   "metadata": {},
   "outputs": [
    {
     "name": "stdout",
     "output_type": "stream",
     "text": [
      "86\n",
      "<class 'list'>\n"
     ]
    }
   ],
   "source": [
    "print(len(tickers_strategy))\n",
    "print(type(tickers_strategy))"
   ]
  },
  {
   "cell_type": "code",
   "execution_count": 4,
   "metadata": {},
   "outputs": [],
   "source": [
    "stock_data = StockData(df, tickers_selecionados=tickers_strategy)\n",
    "# print(len(stock_data.tickers))\n",
    "# print(stock_data.price_matrix.shape)"
   ]
  },
  {
   "cell_type": "code",
   "execution_count": 10,
   "metadata": {},
   "outputs": [
    {
     "name": "stdout",
     "output_type": "stream",
     "text": [
      "['BOVA11', 'SMAL11', 'XPBR31']\n"
     ]
    }
   ],
   "source": [
    "valores_nao_comuns = [valor for valor in tickers_strategy if valor not in stock_data.tickers]\n",
    "\n",
    "print(valores_nao_comuns)"
   ]
  },
  {
   "cell_type": "code",
   "execution_count": 6,
   "metadata": {},
   "outputs": [
    {
     "data": {
      "text/plain": [
       "(3424, 83)"
      ]
     },
     "execution_count": 6,
     "metadata": {},
     "output_type": "execute_result"
    }
   ],
   "source": [
    "stock_data.price_matrix.shape"
   ]
  },
  {
   "cell_type": "code",
   "execution_count": 11,
   "metadata": {},
   "outputs": [
    {
     "name": "stdout",
     "output_type": "stream",
     "text": [
      "Algum valor aparece: False\n",
      "Todos os valores aparecem: False\n",
      "Linhas com os valores:\n",
      " Empty DataFrame\n",
      "Columns: [data, preco_abertura, preco_fechamento, preco_maximo, preco_medio, preco_minimo, quantidade_negociada, quantidade_negocios, ticker, volume_negociado, fator_ajuste, preco_fechamento_ajustado]\n",
      "Index: []\n"
     ]
    }
   ],
   "source": [
    "aparecem = df['ticker'].isin(valores_nao_comuns)\n",
    "\n",
    "\n",
    "algum_aparece = aparecem.any()\n",
    "todos_aparecem = aparecem.all()\n",
    "linhas_com_valores = df[aparecem]\n",
    "\n",
    "print(\"Algum valor aparece:\", algum_aparece)\n",
    "print(\"Todos os valores aparecem:\", todos_aparecem)\n",
    "print(\"Linhas com os valores:\\n\", linhas_com_valores)"
   ]
  },
  {
   "cell_type": "code",
   "execution_count": null,
   "metadata": {},
   "outputs": [],
   "source": []
  }
 ],
 "metadata": {
  "kernelspec": {
   "display_name": ".venv",
   "language": "python",
   "name": "python3"
  },
  "language_info": {
   "codemirror_mode": {
    "name": "ipython",
    "version": 3
   },
   "file_extension": ".py",
   "mimetype": "text/x-python",
   "name": "python",
   "nbconvert_exporter": "python",
   "pygments_lexer": "ipython3",
   "version": "3.11.1"
  }
 },
 "nbformat": 4,
 "nbformat_minor": 2
}
