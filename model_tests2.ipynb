{
 "cells": [
  {
   "cell_type": "code",
   "execution_count": 1,
   "metadata": {},
   "outputs": [
    {
     "name": "stdout",
     "output_type": "stream",
     "text": [
      "<class 'pandas.core.frame.DataFrame'>\n",
      "RangeIndex: 1650895 entries, 0 to 1650894\n",
      "Data columns (total 12 columns):\n",
      " #   Column                     Non-Null Count    Dtype         \n",
      "---  ------                     --------------    -----         \n",
      " 0   data                       1650895 non-null  datetime64[ns]\n",
      " 1   preco_abertura             1650895 non-null  float64       \n",
      " 2   preco_fechamento           1650895 non-null  float64       \n",
      " 3   preco_maximo               1650895 non-null  float64       \n",
      " 4   preco_medio                1650895 non-null  float64       \n",
      " 5   preco_minimo               1650895 non-null  float64       \n",
      " 6   quantidade_negociada       1650895 non-null  float64       \n",
      " 7   quantidade_negocios        1650895 non-null  float64       \n",
      " 8   ticker                     1650895 non-null  object        \n",
      " 9   volume_negociado           1650895 non-null  float64       \n",
      " 10  fator_ajuste               1650895 non-null  float64       \n",
      " 11  preco_fechamento_ajustado  1650895 non-null  float64       \n",
      "dtypes: datetime64[ns](1), float64(10), object(1)\n",
      "memory usage: 151.1+ MB\n",
      "<class 'numpy.ndarray'>\n",
      "166\n",
      "[[Timestamp('2010-01-01 00:00:00') 0.0862 1 2010]\n",
      " [Timestamp('2010-02-01 00:00:00') 0.0862 2 2010]\n",
      " [Timestamp('2010-03-01 00:00:00') 0.0861 3 2010]\n",
      " [Timestamp('2010-04-01 00:00:00') 0.0938 4 2010]\n",
      " [Timestamp('2010-05-01 00:00:00') 0.0937 5 2010]\n",
      " [Timestamp('2010-06-01 00:00:00') 0.1012 6 2010]\n",
      " [Timestamp('2010-07-01 00:00:00') 0.1063 7 2010]\n",
      " [Timestamp('2010-08-01 00:00:00') 0.1063 8 2010]\n",
      " [Timestamp('2010-09-01 00:00:00') 0.1061 9 2010]\n",
      " [Timestamp('2010-10-01 00:00:00') 0.1064 10 2010]\n",
      " [Timestamp('2010-11-01 00:00:00') 0.1064 11 2010]\n",
      " [Timestamp('2010-12-01 00:00:00') 0.1065 12 2010]\n",
      " [Timestamp('2011-01-01 00:00:00') 0.1114 1 2011]\n",
      " [Timestamp('2011-02-01 00:00:00') 0.1162 2 2011]\n",
      " [Timestamp('2011-03-01 00:00:00') 0.1172 3 2011]\n",
      " [Timestamp('2011-04-01 00:00:00') 0.119 4 2011]\n",
      " [Timestamp('2011-05-01 00:00:00') 0.1205 5 2011]\n",
      " [Timestamp('2011-06-01 00:00:00') 0.1221 6 2011]\n",
      " [Timestamp('2011-07-01 00:00:00') 0.124 7 2011]\n",
      " [Timestamp('2011-08-01 00:00:00') 0.1229 8 2011]]\n"
     ]
    }
   ],
   "source": [
    "import pandas as pd\n",
    "import numpy as np\n",
    "import backtest\n",
    "import matplotlib.pyplot as plt \n",
    "\n",
    "from log_data import StockData\n",
    "\n",
    "import os\n",
    "\n",
    "from dotenv import load_dotenv\n",
    "from log_data import StockData\n",
    "from datetime import datetime\n",
    "\n",
    "import sys\n",
    "import backtest\n",
    "\n",
    "# Baixando dados das ações\n",
    "df = pd.read_parquet('cotacoes_acoes.parquet')\n",
    "df_ibov = pd.read_parquet('ibov.parquet')\n",
    "df_ibov.rename(columns={'indice': 'ticker', 'valor': 'preco_fechamento_ajustado'}, inplace=True)\n",
    "df_ibov['ticker'] = df_ibov['ticker'].replace('IBOV', 'BOVA11')\n",
    "df_smal =  pd.read_parquet('smll.parquet')\n",
    "df_smal.rename(columns={'indice': 'ticker', 'valor': 'preco_fechamento_ajustado'}, inplace=True)\n",
    "df_smal['ticker'] = df_smal['ticker'].replace('SMLL', 'SMAL11')\n",
    "df_ibov['data'] = pd.to_datetime(df_ibov['data']); df_smal['data'] = pd.to_datetime(df_smal['data'])\n",
    "df = pd.concat([df, df_ibov, df_smal], ignore_index=True)\n",
    "df.fillna(0, inplace=True)\n",
    "df.info()\n",
    "\n",
    "## upload data\n",
    "load_dotenv()\n",
    "ambiente_local = os.getenv('AMBIENTE_MAC')\n",
    "datapath_cdi = 'cdi_historico.xlsx'\n",
    "cdi_data = backtest.cdidata_extract(ambiente_local+datapath_cdi)\n",
    "print(type(cdi_data))\n",
    "print(len(cdi_data))\n",
    "print(cdi_data[0:20])"
   ]
  },
  {
   "cell_type": "code",
   "execution_count": 2,
   "metadata": {},
   "outputs": [
    {
     "data": {
      "text/html": [
       "<div>\n",
       "<style scoped>\n",
       "    .dataframe tbody tr th:only-of-type {\n",
       "        vertical-align: middle;\n",
       "    }\n",
       "\n",
       "    .dataframe tbody tr th {\n",
       "        vertical-align: top;\n",
       "    }\n",
       "\n",
       "    .dataframe thead th {\n",
       "        text-align: right;\n",
       "    }\n",
       "</style>\n",
       "<table border=\"1\" class=\"dataframe\">\n",
       "  <thead>\n",
       "    <tr style=\"text-align: right;\">\n",
       "      <th></th>\n",
       "      <th>0</th>\n",
       "      <th>1</th>\n",
       "      <th>2</th>\n",
       "      <th>3</th>\n",
       "      <th>4</th>\n",
       "      <th>5</th>\n",
       "      <th>6</th>\n",
       "      <th>7</th>\n",
       "      <th>8</th>\n",
       "      <th>9</th>\n",
       "      <th>...</th>\n",
       "      <th>13</th>\n",
       "      <th>14</th>\n",
       "      <th>15</th>\n",
       "      <th>16</th>\n",
       "      <th>17</th>\n",
       "      <th>18</th>\n",
       "      <th>19</th>\n",
       "      <th>20</th>\n",
       "      <th>Ano</th>\n",
       "      <th>Mes</th>\n",
       "    </tr>\n",
       "  </thead>\n",
       "  <tbody>\n",
       "    <tr>\n",
       "      <th>0</th>\n",
       "      <td>2000-1</td>\n",
       "      <td>PETR4</td>\n",
       "      <td>BBDC4</td>\n",
       "      <td>ELET6</td>\n",
       "      <td>CMIG4</td>\n",
       "      <td>ELET3</td>\n",
       "      <td>PETR3</td>\n",
       "      <td>CSNA3</td>\n",
       "      <td>CPLE6</td>\n",
       "      <td>SBSP3</td>\n",
       "      <td>...</td>\n",
       "      <td>ETER3</td>\n",
       "      <td>RAPT4</td>\n",
       "      <td>FESA4</td>\n",
       "      <td>SHUL4</td>\n",
       "      <td>ALPA4</td>\n",
       "      <td>ITSA4</td>\n",
       "      <td>USIM5</td>\n",
       "      <td>EMBR3</td>\n",
       "      <td>2000</td>\n",
       "      <td>1</td>\n",
       "    </tr>\n",
       "    <tr>\n",
       "      <th>1</th>\n",
       "      <td>2000-2</td>\n",
       "      <td>PETR4</td>\n",
       "      <td>CMIG4</td>\n",
       "      <td>BBDC4</td>\n",
       "      <td>ELET6</td>\n",
       "      <td>PETR3</td>\n",
       "      <td>ELET3</td>\n",
       "      <td>CPLE6</td>\n",
       "      <td>CSNA3</td>\n",
       "      <td>SBSP3</td>\n",
       "      <td>...</td>\n",
       "      <td>FESA4</td>\n",
       "      <td>ALPA4</td>\n",
       "      <td>RAPT4</td>\n",
       "      <td>ETER3</td>\n",
       "      <td>SHUL4</td>\n",
       "      <td>ITSA4</td>\n",
       "      <td>MYPK3</td>\n",
       "      <td>EMBR3</td>\n",
       "      <td>2000</td>\n",
       "      <td>2</td>\n",
       "    </tr>\n",
       "    <tr>\n",
       "      <th>2</th>\n",
       "      <td>2000-3</td>\n",
       "      <td>PETR4</td>\n",
       "      <td>CMIG4</td>\n",
       "      <td>BBDC4</td>\n",
       "      <td>ELET6</td>\n",
       "      <td>ELET3</td>\n",
       "      <td>PETR3</td>\n",
       "      <td>CSNA3</td>\n",
       "      <td>CPLE6</td>\n",
       "      <td>SBSP3</td>\n",
       "      <td>...</td>\n",
       "      <td>ETER3</td>\n",
       "      <td>FESA4</td>\n",
       "      <td>RAPT4</td>\n",
       "      <td>ALPA4</td>\n",
       "      <td>ITSA4</td>\n",
       "      <td>USIM5</td>\n",
       "      <td>EMBR3</td>\n",
       "      <td>MYPK3</td>\n",
       "      <td>2000</td>\n",
       "      <td>3</td>\n",
       "    </tr>\n",
       "    <tr>\n",
       "      <th>3</th>\n",
       "      <td>2000-4</td>\n",
       "      <td>PETR4</td>\n",
       "      <td>BBDC4</td>\n",
       "      <td>CMIG4</td>\n",
       "      <td>ELET6</td>\n",
       "      <td>PETR3</td>\n",
       "      <td>ELET3</td>\n",
       "      <td>CSNA3</td>\n",
       "      <td>CPLE6</td>\n",
       "      <td>SBSP3</td>\n",
       "      <td>...</td>\n",
       "      <td>ETER3</td>\n",
       "      <td>FESA4</td>\n",
       "      <td>RAPT4</td>\n",
       "      <td>SHUL4</td>\n",
       "      <td>ALPA4</td>\n",
       "      <td>ITSA4</td>\n",
       "      <td>USIM5</td>\n",
       "      <td>EMBR3</td>\n",
       "      <td>2000</td>\n",
       "      <td>4</td>\n",
       "    </tr>\n",
       "    <tr>\n",
       "      <th>4</th>\n",
       "      <td>2000-5</td>\n",
       "      <td>PETR4</td>\n",
       "      <td>BBDC4</td>\n",
       "      <td>CMIG4</td>\n",
       "      <td>ELET6</td>\n",
       "      <td>PETR3</td>\n",
       "      <td>ELET3</td>\n",
       "      <td>CSNA3</td>\n",
       "      <td>SBSP3</td>\n",
       "      <td>CPLE6</td>\n",
       "      <td>...</td>\n",
       "      <td>ETER3</td>\n",
       "      <td>FESA4</td>\n",
       "      <td>RAPT4</td>\n",
       "      <td>ALPA4</td>\n",
       "      <td>SHUL4</td>\n",
       "      <td>ITSA4</td>\n",
       "      <td>MYPK3</td>\n",
       "      <td>RANI3</td>\n",
       "      <td>2000</td>\n",
       "      <td>5</td>\n",
       "    </tr>\n",
       "  </tbody>\n",
       "</table>\n",
       "<p>5 rows × 23 columns</p>\n",
       "</div>"
      ],
      "text/plain": [
       "        0      1      2      3      4      5      6      7      8      9  ...  \\\n",
       "0  2000-1  PETR4  BBDC4  ELET6  CMIG4  ELET3  PETR3  CSNA3  CPLE6  SBSP3  ...   \n",
       "1  2000-2  PETR4  CMIG4  BBDC4  ELET6  PETR3  ELET3  CPLE6  CSNA3  SBSP3  ...   \n",
       "2  2000-3  PETR4  CMIG4  BBDC4  ELET6  ELET3  PETR3  CSNA3  CPLE6  SBSP3  ...   \n",
       "3  2000-4  PETR4  BBDC4  CMIG4  ELET6  PETR3  ELET3  CSNA3  CPLE6  SBSP3  ...   \n",
       "4  2000-5  PETR4  BBDC4  CMIG4  ELET6  PETR3  ELET3  CSNA3  SBSP3  CPLE6  ...   \n",
       "\n",
       "      13     14     15     16     17     18     19     20   Ano Mes  \n",
       "0  ETER3  RAPT4  FESA4  SHUL4  ALPA4  ITSA4  USIM5  EMBR3  2000   1  \n",
       "1  FESA4  ALPA4  RAPT4  ETER3  SHUL4  ITSA4  MYPK3  EMBR3  2000   2  \n",
       "2  ETER3  FESA4  RAPT4  ALPA4  ITSA4  USIM5  EMBR3  MYPK3  2000   3  \n",
       "3  ETER3  FESA4  RAPT4  SHUL4  ALPA4  ITSA4  USIM5  EMBR3  2000   4  \n",
       "4  ETER3  FESA4  RAPT4  ALPA4  SHUL4  ITSA4  MYPK3  RANI3  2000   5  \n",
       "\n",
       "[5 rows x 23 columns]"
      ]
     },
     "execution_count": 2,
     "metadata": {},
     "output_type": "execute_result"
    }
   ],
   "source": [
    "# Dados ativos mais líquidos mes a mes\n",
    "def valores_unicos_df(dataframe):\n",
    "    valores_unicos = []\n",
    "    for coluna in dataframe.columns[1:]:\n",
    "        valores_unicos_coluna = list(dataframe[coluna].unique())\n",
    "        valores_unicos.extend(valores_unicos_coluna)\n",
    "    valores_unicos = list(set(valores_unicos))\n",
    "\n",
    "    return valores_unicos\n",
    "\n",
    "# Função para extrair o ano (primeiros 4 caracteres)\n",
    "def extrair_ano(data):\n",
    "    return data[:4]\n",
    "\n",
    "# Função para extrair o valor após o hífen\n",
    "def extrair_apos_hifen(data):\n",
    "    partes = data.split('-')\n",
    "    if len(partes) > 1:\n",
    "        return partes[1]\n",
    "    else:\n",
    "        return None  \n",
    "\n",
    "portfolio_liquidez = pd.read_csv('portfolio_quant.csv', delimiter=',', header=None)\n",
    "# tickers_strategy = valores_unicos_df(portfolio_liquidez)\n",
    "portfolio_liquidez.tail(5)\n",
    "portfolio_liquidez.shape\n",
    "# portfolio_liquidez = portfolio_liquidez.iloc[:, 0:5]\n",
    "portfolio_liquidez['Ano'] = portfolio_liquidez[0].apply(extrair_ano)\n",
    "portfolio_liquidez['Mes'] = portfolio_liquidez[0].apply(extrair_apos_hifen)\n",
    "tickers_strategy = valores_unicos_df(portfolio_liquidez)\n",
    "portfolio_liquidez.head(5)\n"
   ]
  },
  {
   "cell_type": "code",
   "execution_count": 3,
   "metadata": {},
   "outputs": [],
   "source": [
    "# Objeto dados das ações\n",
    "stock_data = StockData(df, tickers_selecionados=tickers_strategy)\n",
    "\n",
    "stock_data.dates = stock_data.dates[:-2]\n",
    "stock_data.price_matrix = stock_data.price_matrix[:-2, :]\n",
    "\n",
    "print(len(tickers_strategy))\n",
    "print(type(tickers_strategy))\n",
    "print(stock_data.price_matrix.shape)\n",
    "valores_nao_comuns = [valor for valor in tickers_strategy if valor not in stock_data.tickers]\n",
    "weekdays = [StockData.date_to_weekday(date) for date in stock_data.dates]\n",
    "print(weekdays[:5])\n",
    "print(valores_nao_comuns)\n",
    "\n",
    "# vamos colocar nome aos bois\n",
    "# falar com o joao: acho melhor pegar as 20 mais do IBOVESPA. pq vem muito lixo nesse sistema que ele criou.\n",
    "# > dates = dias \n",
    "# > tickers = ações\n",
    "# > price matrix = precos\n",
    "# > weekdays = dias da semana\n",
    "# > tickers_strategy = todas as ações utilizadas na estratégia \n",
    "# > portfolio_liquidez = df com as ações mais líquidas de cada mês\n",
    "\n",
    "# o que farei primeiro é tentar usar o dataframe para rodar o backtest\n",
    "# verificar as saídas minuciosamente\n",
    "# aumentar o escopo\n",
    "# finalizar o programa - analisar volatilidade das quedas\n",
    "\n",
    "# depois tentar rodar com numpy arrays\n",
    "# depois colocar em classes e funções\n",
    "# lembrar dos algorimos de jogos"
   ]
  },
  {
   "cell_type": "code",
   "execution_count": null,
   "metadata": {},
   "outputs": [
    {
     "name": "stdout",
     "output_type": "stream",
     "text": [
      "Ativos backtest: ITSA4 , VALE3 , EMBR3 , EQTL3 , BRFS3 , PETR3 , HYPE3 , PETR4 , ETER3 , LIGT3 , RAPT4 , CCRO3 , ELET6 , ELET3 , BRKM5 , TUPY3 , GGBR4 , MRFG3 , GFSA3 , USIM5 , BRAP4 , WEGE3 , GRND3 , GOLL4 , GOAU4 , LREN3 , MRVE3 , FESA4 , MULT3 , MYPK3 , FLRY3 , POSI3 , BBDC3 , SANB11 , ROMI3 , ITUB4 , SHUL4 , CYRE3 , CSNA3 , CPFE3 , CPLE6 , ALPA4 , VULC3 , JBSS3 , BBAS3 , DASA3 , BBDC4 , UNIP6 , TOTS3 , SBSP3 , CMIG4 , KEPL3 , RENT3 , CIEL3 , CSAN3 , RANI3 , UGPA3 , BRPR3 , ECOR3 , MGLU3 , QUAL3 , RADL3 , BBSE3 , ABEV3 , KLBN11 , CVCB3 , PRIO3 , BPAC11 , RAIL3 , AZUL4 , CRFB3 , IRBR3 , SUZB3 , B3SA3 , HAPV3 , COGN3 , NTCO3 , CASH3 , RRRP3 , RDOR3 , ASAI3 , AMER3 , VBBR3 , BOVA11 , SMAL11 ,  \n",
      "\n",
      "Inicio Backtest:  2010-01-04 00:00:00\n",
      "Fim do Backtest:  2023-10-27 00:00:00\n",
      "Return Benchmark _ Strategy Long Bova11:  0.62\n"
     ]
    }
   ],
   "source": [
    "# Verificação Ativos Início e Fim\n",
    "assets_trading = 'Ativos backtest: '\n",
    "for ticker in stock_data.tickers:\n",
    "    assets_trading += ticker+' , '\n",
    "\n",
    "print(assets_trading, '\\n')\n",
    "print('Inicio Backtest: ', stock_data.dates[0])\n",
    "print('Fim do Backtest: ', stock_data.dates[-1])\n",
    "print('Return Benchmark _ Strategy Long Bova11: ', round( stock_data.price_matrix[-1,stock_data.tickers.index('BOVA11')]/ stock_data.price_matrix[0,stock_data.tickers.index('BOVA11')] - 1, 2))"
   ]
  },
  {
   "cell_type": "code",
   "execution_count": null,
   "metadata": {},
   "outputs": [
    {
     "name": "stderr",
     "output_type": "stream",
     "text": [
      "/Users/gabrielassuncao/CARTOR/quant/quant_research_2023/backtest.py:8: RuntimeWarning: divide by zero encountered in scalar divide\n",
      "  return end_price / start_price - 1\n"
     ]
    }
   ],
   "source": [
    "# backtest\n",
    "contagem_dias = np.zeros(stock_data.price_matrix.shape[1])\n",
    "capital_alocacao = np.zeros((stock_data.price_matrix.shape[0], stock_data.price_matrix.shape[1] + 1))\n",
    "resultado_alocacao = np.zeros((stock_data.price_matrix.shape[0], stock_data.price_matrix.shape[1] + 1))\n",
    "capital_alocacao[0, -1] = 1\n",
    "\n",
    "# Alocação portfolio\n",
    "retorno_treshold = -0.025\n",
    "periodo_position = 5 # input(\"Nr de dias posicionado: \")\n",
    "cash = 1.0\n",
    "\n",
    "\n",
    "for i, day in enumerate(stock_data.dates):\n",
    "\n",
    "    # identificar mes e ano\n",
    "    ano = day.year; mes = day.month\n",
    "    cash = capital_alocacao[0, -1]\n",
    "    \n",
    "    # pegar a linha do joao com o portfolio desejado\n",
    "    stocks2trade = portfolio_liquidez[(portfolio_liquidez['Ano'] == str(ano)) & (portfolio_liquidez['Mes'] == str(mes))]    \n",
    "    if not stocks2trade.empty:\n",
    "        stocks2trade = stocks2trade.iloc[0,1:-2].tolist()\n",
    "    else:\n",
    "        stocks2trade = []\n",
    "        print('Falta mes e ano na portfolio de liquidez')\n",
    "        sys.exit()        \n",
    "\n",
    "    for i2, tickers in enumerate(stocks2trade):\n",
    "        # print(f'\\nAno: {ano} e mês: {mes}')            \n",
    "        # print(f'Ação {i2} : {tickers}')\n",
    "        if tickers != 'XPBR31':\n",
    "\n",
    "            capital_alocacao[i, stock_data.tickers.index(tickers)] = capital_alocacao[i-1, stock_data.tickers.index(tickers)]\n",
    "\n",
    "            if stock_data.price_matrix[i, stock_data.tickers.index(tickers)] != 0:\n",
    "\n",
    "                if capital_alocacao[i, stock_data.tickers.index(tickers)] != 0:\n",
    "\n",
    "                    contagem_dias[stock_data.tickers.index(tickers)] += 1\n",
    "\n",
    "                    if contagem_dias[stock_data.tickers.index(tickers)] >= int(periodo_position): \n",
    "\n",
    "                        # capital_alocacao[i, stock_data.tickers.index(tickers)], cash = backtest.simple_update_capital(cash, 'sell')\n",
    "                        capital_alocacao[i, stock_data.tickers.index(tickers)] = 0\n",
    "                        contagem_dias[stock_data.tickers.index(tickers)] = 0 \n",
    "\n",
    "                if weekdays[i] == 'sexta':\n",
    "                    preco_ontem = stock_data.price_matrix[i-1, stock_data.tickers.index(tickers)]\n",
    "                    # print(weekdays[i-1])\n",
    "                    preco_sextapassada = stock_data.price_matrix[i-4, stock_data.tickers.index(tickers)]\n",
    "                    # print(weekdays[i-4])\n",
    "                    retorno_semanal = backtest.calculate_return(preco_sextapassada, preco_ontem)\n",
    "                    # print(f'Retorno semanal: {retorno_semanal}, de acordo com {weekdays[i-4]} e {weekdays[i-1]}.')\n",
    "\n",
    "                    if retorno_semanal > retorno_treshold and cash >= 0.10:\n",
    "                        capital_alocacao[i, stock_data.tickers.index(tickers)], cash = backtest.simple_update_capital(cash, 'buy')                        \n",
    "                        contagem_dias[stock_data.tickers.index(tickers)] = 0\n",
    "                    \n",
    "                    else:\n",
    "                        continue\n",
    "\n",
    "    if cash < -0.001 or cash > 1:\n",
    "        print('SYSTEM ERROR - cash out of reality')\n",
    "        print(cash)\n",
    "        sys.exit()\n",
    "    else:\n",
    "        # cash = 1 - np.sum(capital_alocacao[i, :-1])\n",
    "        capital_alocacao[i, -1] = cash\n",
    "                \n",
    "                # pass"
   ]
  },
  {
   "cell_type": "code",
   "execution_count": null,
   "metadata": {},
   "outputs": [
    {
     "data": {
      "text/plain": [
       "array([[0.1, 0.1, 0. , 0. , 0.1, 0.1, 0. , 0.1, 0. , 0. , 0. , 0. , 0. ,\n",
       "        0.1, 0. , 0.1, 0.1, 0. , 0. , 0.1, 0. , 0. , 0. , 0. , 0. , 0.1,\n",
       "        0. , 0. , 0. , 0. , 0. , 0. , 0. , 0. , 0. , 0.1, 0. , 0.1, 0.1,\n",
       "        0. , 0. , 0. , 0. , 0. , 0.1, 0. , 0.1, 0. , 0. , 0. , 0.1, 0. ,\n",
       "        0. , 0.1, 0.1, 0. , 0. , 0. , 0. , 0. , 0. , 0. , 0. , 0. , 0. ,\n",
       "        0. , 0. , 0. , 0. , 0. , 0. , 0. , 0. , 0. , 0. , 0. , 0. , 0. ,\n",
       "        0. , 0. , 0. , 0. , 0. , 0. , 0. , 1. ],\n",
       "       [0.1, 0.1, 0. , 0. , 0.1, 0.1, 0. , 0.1, 0. , 0. , 0. , 0. , 0. ,\n",
       "        0.1, 0. , 0.1, 0.1, 0. , 0. , 0.1, 0. , 0. , 0. , 0. , 0. , 0.1,\n",
       "        0. , 0. , 0. , 0. , 0. , 0. , 0. , 0. , 0. , 0.1, 0. , 0.1, 0.1,\n",
       "        0. , 0. , 0. , 0. , 0. , 0.1, 0. , 0.1, 0. , 0. , 0. , 0.1, 0. ,\n",
       "        0. , 0.1, 0.1, 0. , 0. , 0. , 0. , 0. , 0. , 0. , 0. , 0. , 0. ,\n",
       "        0. , 0. , 0. , 0. , 0. , 0. , 0. , 0. , 0. , 0. , 0. , 0. , 0. ,\n",
       "        0. , 0. , 0. , 0. , 0. , 0. , 0. , 0. ],\n",
       "       [0.1, 0.1, 0. , 0. , 0.1, 0.1, 0. , 0.1, 0. , 0. , 0. , 0. , 0. ,\n",
       "        0.1, 0. , 0.1, 0.1, 0. , 0. , 0.1, 0. , 0. , 0. , 0. , 0. , 0.1,\n",
       "        0. , 0. , 0. , 0. , 0. , 0. , 0. , 0. , 0. , 0.1, 0. , 0.1, 0.1,\n",
       "        0. , 0. , 0. , 0. , 0. , 0.1, 0. , 0.1, 0. , 0. , 0. , 0.1, 0. ,\n",
       "        0. , 0.1, 0.1, 0. , 0. , 0. , 0. , 0. , 0. , 0. , 0. , 0. , 0. ,\n",
       "        0. , 0. , 0. , 0. , 0. , 0. , 0. , 0. , 0. , 0. , 0. , 0. , 0. ,\n",
       "        0. , 0. , 0. , 0. , 0. , 0. , 0. , 1. ],\n",
       "       [0.1, 0.1, 0. , 0. , 0.1, 0.1, 0. , 0.1, 0. , 0. , 0. , 0. , 0. ,\n",
       "        0.1, 0. , 0.1, 0.1, 0. , 0. , 0.1, 0. , 0. , 0. , 0. , 0. , 0.1,\n",
       "        0. , 0. , 0. , 0. , 0. , 0. , 0. , 0. , 0. , 0.1, 0. , 0.1, 0.1,\n",
       "        0. , 0. , 0. , 0. , 0. , 0.1, 0. , 0.1, 0. , 0. , 0. , 0.1, 0. ,\n",
       "        0. , 0.1, 0.1, 0. , 0. , 0. , 0. , 0. , 0. , 0. , 0. , 0. , 0. ,\n",
       "        0. , 0. , 0. , 0. , 0. , 0. , 0. , 0. , 0. , 0. , 0. , 0. , 0. ,\n",
       "        0. , 0. , 0. , 0. , 0. , 0. , 0. , 1. ],\n",
       "       [0.1, 0.1, 0. , 0. , 0.1, 0.1, 0. , 0.1, 0. , 0. , 0. , 0. , 0. ,\n",
       "        0. , 0. , 0.1, 0.1, 0. , 0. , 0.1, 0. , 0. , 0. , 0. , 0. , 0.1,\n",
       "        0. , 0. , 0. , 0. , 0. , 0. , 0. , 0. , 0. , 0.1, 0. , 0.1, 0.1,\n",
       "        0. , 0. , 0. , 0. , 0. , 0.1, 0. , 0.1, 0. , 0. , 0. , 0. , 0. ,\n",
       "        0. , 0.1, 0.1, 0. , 0. , 0. , 0. , 0. , 0. , 0. , 0. , 0. , 0. ,\n",
       "        0. , 0. , 0. , 0. , 0. , 0. , 0. , 0. , 0. , 0. , 0. , 0. , 0. ,\n",
       "        0. , 0. , 0. , 0. , 0. , 0. , 0. , 1. ],\n",
       "       [0.1, 0.1, 0. , 0. , 0.1, 0.1, 0. , 0.1, 0. , 0. , 0. , 0. , 0. ,\n",
       "        0. , 0. , 0.1, 0.1, 0. , 0. , 0.1, 0. , 0. , 0. , 0. , 0. , 0.1,\n",
       "        0. , 0. , 0. , 0. , 0. , 0. , 0. , 0. , 0. , 0.1, 0. , 0.1, 0.1,\n",
       "        0. , 0. , 0. , 0. , 0. , 0.1, 0. , 0.1, 0. , 0. , 0. , 0. , 0. ,\n",
       "        0. , 0.1, 0.1, 0. , 0. , 0. , 0. , 0. , 0. , 0. , 0. , 0. , 0. ,\n",
       "        0. , 0. , 0. , 0. , 0. , 0. , 0. , 0. , 0. , 0. , 0. , 0. , 0. ,\n",
       "        0. , 0. , 0. , 0. , 0. , 0. , 0. , 1. ],\n",
       "       [0.1, 0.1, 0. , 0. , 0.1, 0.1, 0. , 0.1, 0. , 0. , 0. , 0. , 0. ,\n",
       "        0. , 0. , 0.1, 0.1, 0. , 0. , 0.1, 0. , 0. , 0. , 0. , 0. , 0.1,\n",
       "        0. , 0. , 0. , 0. , 0. , 0. , 0. , 0. , 0. , 0.1, 0. , 0.1, 0.1,\n",
       "        0. , 0. , 0. , 0. , 0. , 0.1, 0. , 0.1, 0. , 0. , 0. , 0. , 0. ,\n",
       "        0. , 0.1, 0.1, 0. , 0. , 0. , 0. , 0. , 0. , 0. , 0. , 0. , 0. ,\n",
       "        0. , 0. , 0. , 0. , 0. , 0. , 0. , 0. , 0. , 0. , 0. , 0. , 0. ,\n",
       "        0. , 0. , 0. , 0. , 0. , 0. , 0. , 0. ],\n",
       "       [0.1, 0.1, 0. , 0. , 0.1, 0.1, 0. , 0.1, 0. , 0. , 0. , 0. , 0. ,\n",
       "        0. , 0. , 0.1, 0.1, 0. , 0. , 0.1, 0. , 0. , 0. , 0. , 0. , 0.1,\n",
       "        0. , 0. , 0. , 0. , 0. , 0. , 0. , 0. , 0. , 0.1, 0. , 0.1, 0.1,\n",
       "        0. , 0. , 0. , 0. , 0. , 0.1, 0. , 0.1, 0. , 0. , 0. , 0. , 0. ,\n",
       "        0. , 0.1, 0. , 0. , 0. , 0. , 0. , 0. , 0. , 0. , 0. , 0. , 0. ,\n",
       "        0. , 0. , 0. , 0. , 0. , 0. , 0. , 0. , 0. , 0. , 0. , 0. , 0. ,\n",
       "        0. , 0. , 0. , 0. , 0. , 0. , 0. , 1. ],\n",
       "       [0.1, 0.1, 0. , 0. , 0.1, 0.1, 0. , 0.1, 0. , 0. , 0. , 0. , 0. ,\n",
       "        0. , 0. , 0.1, 0.1, 0. , 0. , 0.1, 0. , 0. , 0. , 0. , 0. , 0.1,\n",
       "        0. , 0. , 0. , 0. , 0. , 0. , 0. , 0. , 0. , 0.1, 0. , 0. , 0.1,\n",
       "        0. , 0. , 0. , 0. , 0. , 0.1, 0. , 0.1, 0. , 0. , 0. , 0. , 0. ,\n",
       "        0. , 0.1, 0. , 0. , 0. , 0. , 0. , 0. , 0. , 0. , 0. , 0. , 0. ,\n",
       "        0. , 0. , 0. , 0. , 0. , 0. , 0. , 0. , 0. , 0. , 0. , 0. , 0. ,\n",
       "        0. , 0. , 0. , 0. , 0. , 0. , 0. , 1. ],\n",
       "       [0.1, 0.1, 0. , 0. , 0.1, 0.1, 0. , 0.1, 0. , 0. , 0. , 0. , 0. ,\n",
       "        0. , 0. , 0.1, 0.1, 0. , 0. , 0.1, 0. , 0. , 0. , 0. , 0. , 0.1,\n",
       "        0. , 0. , 0. , 0. , 0. , 0. , 0. , 0. , 0. , 0.1, 0. , 0. , 0.1,\n",
       "        0. , 0. , 0. , 0. , 0. , 0.1, 0. , 0.1, 0. , 0. , 0. , 0. , 0. ,\n",
       "        0. , 0.1, 0. , 0. , 0. , 0. , 0. , 0. , 0. , 0. , 0. , 0. , 0. ,\n",
       "        0. , 0. , 0. , 0. , 0. , 0. , 0. , 0. , 0. , 0. , 0. , 0. , 0. ,\n",
       "        0. , 0. , 0. , 0. , 0. , 0. , 0. , 1. ]])"
      ]
     },
     "execution_count": 6,
     "metadata": {},
     "output_type": "execute_result"
    }
   ],
   "source": [
    "capital_alocacao[30:40,:]"
   ]
  },
  {
   "cell_type": "code",
   "execution_count": null,
   "metadata": {},
   "outputs": [
    {
     "name": "stdout",
     "output_type": "stream",
     "text": [
      "7\n"
     ]
    },
    {
     "data": {
      "text/plain": [
       "35.44"
      ]
     },
     "execution_count": 7,
     "metadata": {},
     "output_type": "execute_result"
    }
   ],
   "source": [
    "print(stock_data.tickers.index('PETR4'))\n",
    "stock_data.price_matrix[-1, stock_data.tickers.index('PETR4')]"
   ]
  },
  {
   "cell_type": "code",
   "execution_count": null,
   "metadata": {},
   "outputs": [
    {
     "name": "stdout",
     "output_type": "stream",
     "text": [
      "(3424, 85)\n",
      "3424\n",
      "85\n"
     ]
    }
   ],
   "source": [
    "# plt.plot(stock_data.price_matrix[:,3])\n",
    "print(stock_data.price_matrix.shape)\n",
    "print(len(stock_data.dates))\n",
    "print(len(stock_data.tickers))"
   ]
  },
  {
   "cell_type": "code",
   "execution_count": null,
   "metadata": {},
   "outputs": [],
   "source": [
    "# Building Equity Curve // Revisar\n",
    "equity =[100]\n",
    "\n",
    "for i, day in enumerate(stock_data.dates[1:], start=1):\n",
    "\n",
    "    for i2, ticker in enumerate(stock_data.tickers):\n",
    "\n",
    "        if stock_data.price_matrix[i-1, i2] != 0: \n",
    "\n",
    "            position_ticker = capital_alocacao[i, i2]\n",
    "\n",
    "            day_return = backtest.calculate_return(stock_data.price_matrix[i-1, i2], stock_data.price_matrix[i, i2])\n",
    "\n",
    "            resultado_alocacao[i, i2] = position_ticker*day_return\n",
    "\n",
    "    equity.append((np.sum(resultado_alocacao[i, :])) * equity[i-1] + equity[i-1])"
   ]
  },
  {
   "cell_type": "code",
   "execution_count": null,
   "metadata": {},
   "outputs": [],
   "source": [
    "# # Building Equity Curve with cash\n",
    "# equity_cash =[100]\n",
    "\n",
    "# date_structure = backtest.datestring_tostruct(stock_data.dates)\n",
    "\n",
    "# for i, day in enumerate(stock_data.dates[1:], start=1):\n",
    "\n",
    "#     for i2 in range(capital_alocacao.shape[1]):\n",
    "\n",
    "#         if i2 == (capital_alocacao.shape[1]-1): # if it is cash\n",
    "#             linhas_correspondentes = cdi_data[(cdi_data[:, 2] == date_structure[i,1]) & (cdi_data[:, 3] == date_structure[i,2])]\n",
    "#             position_ticker = capital_alocacao[i, i2]\n",
    "#             day_return = (linhas_correspondentes[0][1]+1)**(1/252)-1\n",
    "#             resultado_alocacao[i, i2] = position_ticker*day_return\n",
    "\n",
    "#         elif stock_data.price_matrix[i-1, i2] != 0: \n",
    "#             position_ticker = capital_alocacao[i, i2]\n",
    "#             day_return = backtest.calculate_return(stock_data.price_matrix[i-1, i2], stock_data.price_matrix[i, i2])\n",
    "#             resultado_alocacao[i, i2] = position_ticker*day_return\n",
    "\n",
    "#     equity_cash.append((np.sum(resultado_alocacao[i, :])) * equity_cash[i-1] + equity_cash[i-1])"
   ]
  },
  {
   "cell_type": "code",
   "execution_count": null,
   "metadata": {},
   "outputs": [
    {
     "data": {
      "text/plain": [
       "[<matplotlib.lines.Line2D at 0x105f659d0>]"
      ]
     },
     "execution_count": 11,
     "metadata": {},
     "output_type": "execute_result"
    },
    {
     "data": {
      "image/png": "[encoded data removed]",
      "text/plain": [
       "<Figure size 640x480 with 1 Axes>"
      ]
     },
     "metadata": {},
     "output_type": "display_data"
    }
   ],
   "source": [
    "# Building Equity Curve BOVA 11 // Revisar\n",
    "plt.plot(stock_data.price_matrix[:, stock_data.tickers.index('BOVA11')])"
   ]
  },
  {
   "cell_type": "code",
   "execution_count": null,
   "metadata": {},
   "outputs": [
    {
     "data": {
      "text/plain": [
       "[<matplotlib.lines.Line2D at 0x17f77f090>]"
      ]
     },
     "execution_count": 12,
     "metadata": {},
     "output_type": "execute_result"
    },
    {
     "data": {
      "image/png": "[encoded data removed]",
      "text/plain": [
       "<Figure size 640x480 with 1 Axes>"
      ]
     },
     "metadata": {},
     "output_type": "display_data"
    }
   ],
   "source": [
    "plt.plot(equity)"
   ]
  },
  {
   "cell_type": "code",
   "execution_count": null,
   "metadata": {},
   "outputs": [
    {
     "data": {
      "text/plain": [
       "[<matplotlib.lines.Line2D at 0x17f20b150>]"
      ]
     },
     "execution_count": 13,
     "metadata": {},
     "output_type": "execute_result"
    },
    {
     "data": {
      "image/png": "[encoded data removed]",
      "text/plain": [
       "<Figure size 640x480 with 1 Axes>"
      ]
     },
     "metadata": {},
     "output_type": "display_data"
    }
   ],
   "source": [
    "plt.plot(capital_alocacao[:,-1])"
   ]
  },
  {
   "cell_type": "code",
   "execution_count": null,
   "metadata": {},
   "outputs": [],
   "source": []
  }
 ],
 "metadata": {
  "kernelspec": {
   "display_name": ".venv",
   "language": "python",
   "name": "python3"
  },
  "language_info": {
   "codemirror_mode": {
    "name": "ipython",
    "version": 3
   },
   "file_extension": ".py",
   "mimetype": "text/x-python",
   "name": "python",
   "nbconvert_exporter": "python",
   "pygments_lexer": "ipython3",
   "version": "3.11.1"
  }
 },
 "nbformat": 4,
 "nbformat_minor": 2
}
